{
 "cells": [
  {
   "cell_type": "markdown",
   "metadata": {
    "collapsed": true
   },
   "source": [
    "# Exploring Hacker News Posts \n",
    "\n",
    "The dataset for this project is from Hacker News, a website started by Y Combinator.\n",
    "The dataset was reduced from 300k rows to 20k rows, as submissions that didn't even receive comments were removed, and the remaining submissions were randomly sampled,\n",
    "\n",
    "Dataset Dictionary:\n",
    "- id: the unique identifier from Hacker News for the post\n",
    "- title: the title of the post\n",
    "- url: the URL that the posts links to, if the post has a URL\n",
    "- num_points: the number of points the post acquired, calculated as the total number of - upvotes minus the total number of downvotes\n",
    "- num_comments: the number of comments on the post\n",
    "- author: the username of the person who submitted the post\n",
    "- created_at: the date and time of the post's submission\n",
    "\n",
    "For this project, we're intersted in posts with titles of either \"Ask HN\" or \"Show HN\"\n",
    "\n",
    "We'll compare these two types of posts to determine the following:\n",
    "- Do Ask HN or Show HN receive more comments on average?\n",
    "- Do posts created at a certain time receive more comments on average?"
   ]
  },
  {
   "cell_type": "markdown",
   "metadata": {},
   "source": [
    "# Removing Headers from List of Lists\n",
    "When importing the dataset, we want to separate the row of headers vs the rows of the actual data"
   ]
  },
  {
   "cell_type": "code",
   "execution_count": 3,
   "metadata": {
    "scrolled": false
   },
   "outputs": [
    {
     "name": "stdout",
     "output_type": "stream",
     "text": [
      "['id', 'title', 'url', 'num_points', 'num_comments', 'author', 'created_at']\n",
      "[['12224879', 'Interactive Dynamic Video', 'http://www.interactivedynamicvideo.com/', '386', '52', 'ne0phyte', '8/4/2016 11:52'], ['10975351', 'How to Use Open Source and Shut the Fuck Up at the Same Time', 'http://hueniverse.com/2016/01/26/how-to-use-open-source-and-shut-the-fuck-up-at-the-same-time/', '39', '10', 'josep2', '1/26/2016 19:30'], ['11964716', \"Florida DJs May Face Felony for April Fools' Water Joke\", 'http://www.thewire.com/entertainment/2013/04/florida-djs-april-fools-water-joke/63798/', '2', '1', 'vezycash', '6/23/2016 22:20'], ['11919867', 'Technology ventures: From Idea to Enterprise', 'https://www.amazon.com/Technology-Ventures-Enterprise-Thomas-Byers/dp/0073523429', '3', '1', 'hswarna', '6/17/2016 0:01'], ['10301696', 'Note by Note: The Making of Steinway L1037 (2007)', 'http://www.nytimes.com/2007/11/07/movies/07stein.html?_r=0', '8', '2', 'walterbell', '9/30/2015 4:12']]\n"
     ]
    }
   ],
   "source": [
    "from csv import reader\n",
    "opened_file = open('hacker_news.csv')\n",
    "read_file = reader(opened_file)\n",
    "hn = list(read_file)\n",
    "headers = hn[0]\n",
    "hn = hn[1:]\n",
    "\n",
    "print(headers)\n",
    "print(hn[0:5])\n",
    "\n",
    "\n"
   ]
  },
  {
   "cell_type": "markdown",
   "metadata": {},
   "source": [
    "# Extracting Ask HN and Show HN Posts\n",
    "We'll begin the analysis by creating 3 lists: one for ask posts, one for show posts, and other."
   ]
  },
  {
   "cell_type": "code",
   "execution_count": 4,
   "metadata": {
    "scrolled": true
   },
   "outputs": [
    {
     "name": "stdout",
     "output_type": "stream",
     "text": [
      "Ask Posts: 1744\n",
      "Show Posts: 1162\n",
      "Other Posts: 17194\n"
     ]
    }
   ],
   "source": [
    "#Use string method .startswith()\n",
    "#example: print('dataquest'.startswith('Data')) = False\n",
    "\n",
    "ask_posts = []\n",
    "show_posts = []\n",
    "other_posts = []\n",
    "\n",
    "for row in hn:\n",
    "    title = row[1]\n",
    "    if title.lower().startswith('ask hn'): #by making string lower, inclusive of any upper cases\n",
    "        ask_posts.append(row)\n",
    "    elif title.lower().startswith('show hn'):\n",
    "        show_posts.append(row)\n",
    "    else:\n",
    "        other_posts.append(row)\n",
    "            \n",
    "#Count the number of posts in each list \n",
    "#Total = 20.1k\n",
    "print('Ask Posts:', len(ask_posts))\n",
    "print('Show Posts:', len(show_posts))\n",
    "print('Other Posts:',len(other_posts))"
   ]
  },
  {
   "cell_type": "code",
   "execution_count": 5,
   "metadata": {
    "scrolled": true
   },
   "outputs": [
    {
     "name": "stdout",
     "output_type": "stream",
     "text": [
      "[['12296411', 'Ask HN: How to improve my personal website?', '', '2', '6', 'ahmedbaracat', '8/16/2016 9:55'], ['10610020', 'Ask HN: Am I the only one outraged by Twitter shutting down share counts?', '', '28', '29', 'tkfx', '11/22/2015 13:43'], ['11610310', 'Ask HN: Aby recent changes to CSS that broke mobile?', '', '1', '1', 'polskibus', '5/2/2016 10:14'], ['12210105', 'Ask HN: Looking for Employee #3 How do I do it?', '', '1', '3', 'sph130', '8/2/2016 14:20'], ['10394168', 'Ask HN: Someone offered to buy my browser extension from me. What now?', '', '28', '17', 'roykolak', '10/15/2015 16:38']]\n",
      "[['10627194', 'Show HN: Wio Link  ESP8266 Based Web of Things Hardware Development Platform', 'https://iot.seeed.cc', '26', '22', 'kfihihc', '11/25/2015 14:03'], ['10646440', 'Show HN: Something pointless I made', 'http://dn.ht/picklecat/', '747', '102', 'dhotson', '11/29/2015 22:46'], ['11590768', 'Show HN: Shanhu.io, a programming playground powered by e8vm', 'https://shanhu.io', '1', '1', 'h8liu', '4/28/2016 18:05'], ['12178806', 'Show HN: Webscope  Easy way for web developers to communicate with Clients', 'http://webscopeapp.com', '3', '3', 'fastbrick', '7/28/2016 7:11'], ['10872799', 'Show HN: GeoScreenshot  Easily test Geo-IP based web pages', 'https://www.geoscreenshot.com/', '1', '9', 'kpsychwave', '1/9/2016 20:45']]\n"
     ]
    }
   ],
   "source": [
    "#First 5 rows from the Ask Post List\n",
    "print(ask_posts[0:5])\n",
    "\n",
    "#First 5 rows from the Show Post List\n",
    "print(show_posts[0:5])\n",
    "\n"
   ]
  },
  {
   "cell_type": "markdown",
   "metadata": {},
   "source": [
    "# Calculating the Average Number of Comments for Ask HN and Show HN Posts"
   ]
  },
  {
   "cell_type": "code",
   "execution_count": 6,
   "metadata": {},
   "outputs": [
    {
     "name": "stdout",
     "output_type": "stream",
     "text": [
      "Total Ask Comments 24483\n",
      "Total Ask Posts 1744\n",
      "Average Comments Per Post: 14.0\n"
     ]
    }
   ],
   "source": [
    "# Find total number of comments in ask posts\n",
    "\n",
    "total_ask_comments = 0\n",
    "\n",
    "# In the header, item 4 is the Comments column\n",
    "for row in ask_posts:\n",
    "    num_com = int(row[4])\n",
    "    total_ask_comments += num_com\n",
    "    \n",
    "print('Total Ask Comments', total_ask_comments)\n",
    "num_ask_post = len(ask_posts)\n",
    "print('Total Ask Posts', num_ask_post)\n",
    "avg_ask_comments = round((total_ask_comments / num_ask_post), 0)\n",
    "print('Average Comments Per Post:', avg_ask_comments)\n"
   ]
  },
  {
   "cell_type": "code",
   "execution_count": 7,
   "metadata": {},
   "outputs": [
    {
     "name": "stdout",
     "output_type": "stream",
     "text": [
      "Total Show Comments: 11988\n",
      "Total Show Posts: 1162\n",
      "Average Show Comments Per Post: 10.0\n"
     ]
    }
   ],
   "source": [
    "#Find total number of comments in show posts\n",
    "\n",
    "total_show_comments = 0\n",
    "\n",
    "for row in show_posts:\n",
    "    num_com = int(row[4])\n",
    "    total_show_comments += num_com\n",
    "    \n",
    "print('Total Show Comments:', total_show_comments)\n",
    "num_show_post = len(show_posts)\n",
    "print('Total Show Posts:',num_show_post)\n",
    "avg_show_comments = round(total_show_comments / num_show_post, 0)\n",
    "print('Average Show Comments Per Post:',avg_show_comments)\n"
   ]
  },
  {
   "cell_type": "markdown",
   "metadata": {},
   "source": [
    "From the above calculations, ASK POSTS get an average of 14 comments per post compared to SHOW POSTS get an average of 10 comments per post. "
   ]
  },
  {
   "cell_type": "markdown",
   "metadata": {},
   "source": [
    "# Finding the Number of Ask Posts and Comments by Hour Created"
   ]
  },
  {
   "cell_type": "markdown",
   "metadata": {},
   "source": [
    "We'll determine if ask posts created at a certain time are more likely to attract comments. We'll use the following steps to perform this analysis:\n",
    "\n",
    "- Calculate the number of ask posts created in each hour of the day, along with the number of comments received.\n",
    "- Calculate the average number of comments ask posts receive by hour created."
   ]
  },
  {
   "cell_type": "code",
   "execution_count": 8,
   "metadata": {
    "scrolled": true
   },
   "outputs": [
    {
     "name": "stdout",
     "output_type": "stream",
     "text": [
      "{'09': 45, '13': 85, '10': 59, '14': 107, '16': 108, '23': 68, '12': 73, '17': 100, '15': 116, '21': 109, '20': 80, '02': 58, '18': 109, '03': 54, '05': 46, '19': 110, '01': 60, '22': 71, '08': 48, '04': 47, '00': 55, '06': 44, '07': 34, '11': 58}\n",
      "\n",
      "\n",
      "{'09': 251, '13': 1253, '10': 793, '14': 1416, '16': 1814, '23': 543, '12': 687, '17': 1146, '15': 4477, '21': 1745, '20': 1722, '02': 1381, '18': 1439, '03': 421, '05': 464, '19': 1188, '01': 683, '22': 479, '08': 492, '04': 337, '00': 447, '06': 397, '07': 267, '11': 641}\n"
     ]
    }
   ],
   "source": [
    "import datetime as dt\n",
    "\n",
    "result_list = [] # list of lists 1st element is create date, 2nd element is # of comments \n",
    "\n",
    "for row in ask_posts:\n",
    "    create_dte = row[6]\n",
    "    num_comment = int(row[4])\n",
    "    new_list = [create_dte, num_comment]\n",
    "    result_list.append(new_list)\n",
    "\n",
    "#print(result_list)\n",
    "counts_by_hour = {} #aka posts per hour\n",
    "comments_by_hour = {}\n",
    "\n",
    "for row in result_list:\n",
    "    date_1_str = row[0]\n",
    "    date_1_dt_strp = dt.datetime.strptime(date_1_str, \"%m/%d/%Y %H:%M\")\n",
    "    #print(date_1_dt_strp)\n",
    "    date_1_dt_strft = date_1_dt_strp.strftime( \"%H\")\n",
    "    #print(date_1_dt_strft)\n",
    "    if date_1_dt_strft not in counts_by_hour:\n",
    "        counts_by_hour[date_1_dt_strft] = 1\n",
    "        comments_by_hour[date_1_dt_strft] = row[1]\n",
    "    elif date_1_dt_strft in counts_by_hour:\n",
    "        counts_by_hour[date_1_dt_strft] += 1\n",
    "        comments_by_hour[date_1_dt_strft] += row[1]\n",
    "\n",
    "    \n",
    "print(counts_by_hour)\n",
    "print('\\n')\n",
    "print(comments_by_hour)\n",
    "    \n",
    "\n",
    "    \n",
    "    \n",
    "    \n",
    "    "
   ]
  },
  {
   "cell_type": "markdown",
   "metadata": {},
   "source": [
    "# Calculating Average Number of Comments for Ask HN Posts by Hour\n",
    "\n",
    "The counts_by_hour dictionary contains the number of ask posts created during each hour of the day.\n",
    "\n",
    "The comments_by_hour dictionary contains the corresponding number of comments ask posts created at each hour received.\n",
    "\n",
    "We'll use these two dictionaries to calculate the average number of comments for posts created during each hour of the day."
   ]
  },
  {
   "cell_type": "code",
   "execution_count": 9,
   "metadata": {},
   "outputs": [
    {
     "name": "stdout",
     "output_type": "stream",
     "text": [
      "[['09', 5.5777777777777775], ['13', 14.741176470588234], ['10', 13.440677966101696], ['14', 13.233644859813085], ['16', 16.796296296296298], ['23', 7.985294117647059], ['12', 9.41095890410959], ['17', 11.46], ['15', 38.5948275862069], ['21', 16.009174311926607], ['20', 21.525], ['02', 23.810344827586206], ['18', 13.20183486238532], ['03', 7.796296296296297], ['05', 10.08695652173913], ['19', 10.8], ['01', 11.383333333333333], ['22', 6.746478873239437], ['08', 10.25], ['04', 7.170212765957447], ['00', 8.127272727272727], ['06', 9.022727272727273], ['07', 7.852941176470588], ['11', 11.051724137931034]]\n"
     ]
    }
   ],
   "source": [
    "avg_by_hour = []\n",
    "\n",
    "for hour in comments_by_hour: #row = key\n",
    "    avg_by_hour.append([hour, comments_by_hour[hour]/ counts_by_hour[hour]])\n",
    "\n",
    "#First element is hour, 2nd element is num comments / num posts \n",
    "print(avg_by_hour)    \n",
    "    "
   ]
  },
  {
   "cell_type": "markdown",
   "metadata": {},
   "source": [
    "# Sorting the values from a list of lists"
   ]
  },
  {
   "cell_type": "markdown",
   "metadata": {},
   "source": [
    "Sort the list of lists and print 5 highest values in an easy to read manner"
   ]
  },
  {
   "cell_type": "code",
   "execution_count": 12,
   "metadata": {},
   "outputs": [
    {
     "name": "stdout",
     "output_type": "stream",
     "text": [
      "[[5.5777777777777775, '09'], [14.741176470588234, '13'], [13.440677966101696, '10'], [13.233644859813085, '14'], [16.796296296296298, '16'], [7.985294117647059, '23'], [9.41095890410959, '12'], [11.46, '17'], [38.5948275862069, '15'], [16.009174311926607, '21'], [21.525, '20'], [23.810344827586206, '02'], [13.20183486238532, '18'], [7.796296296296297, '03'], [10.08695652173913, '05'], [10.8, '19'], [11.383333333333333, '01'], [6.746478873239437, '22'], [10.25, '08'], [7.170212765957447, '04'], [8.127272727272727, '00'], [9.022727272727273, '06'], [7.852941176470588, '07'], [11.051724137931034, '11']]\n",
      "\n",
      "\n",
      "Top 5 Hours for Ask Posts Comments\n",
      "15:00: 38.59 average comments per post\n",
      "02:00: 23.81 average comments per post\n",
      "20:00: 21.52 average comments per post\n",
      "16:00: 16.80 average comments per post\n",
      "21:00: 16.01 average comments per post\n"
     ]
    }
   ],
   "source": [
    "swap_by_avg_hour = []\n",
    "\n",
    "for row in avg_by_hour:\n",
    "    swap_by_avg_hour.append([row[1], row[0]])\n",
    "\n",
    "print(swap_by_avg_hour)\n",
    "\n",
    "print('\\n')\n",
    "\n",
    "sorted_swap = sorted(swap_by_avg_hour, reverse = True)\n",
    "#print(sorted_swap)\n",
    "\n",
    "print(\"Top 5 Hours for Ask Posts Comments\")\n",
    "\n",
    "for row in sorted_swap[0:5]:\n",
    "    hour = row[1]\n",
    "    date_1_dt_strp = dt.datetime.strptime(hour, \"%H\")\n",
    "    date_1_dt_strft = date_1_dt_strp.strftime( \"%H:%M\")\n",
    "    print(\"{}: {:.2f} average comments per post\".format(date_1_dt_strft, row[0]))\n",
    "\n",
    "    #print(date_1_dt_strp)\n",
    "    #print(date_1_dt_strft)\n",
    "        "
   ]
  },
  {
   "cell_type": "markdown",
   "metadata": {},
   "source": [
    "The above times are in EST. Based on the results, posts posted on 3PM EST on average have the highest amount of comments. In terms of the times, all 5 results are after 12PM EST. 8PM and 9PM would be times where people are going chilling for the night and has time to comment on posts. "
   ]
  },
  {
   "cell_type": "markdown",
   "metadata": {},
   "source": [
    "# Conclusion\n",
    "\n",
    "The analysis aimed to gain insights into 2 questions:\n",
    "- Do Ask HN or Show HN receive more comments on average?\n",
    "- Do posts created at a certain time receive more comments on average?\n",
    "\n",
    "For question one, we determined that Ask Posts on average received more comments than Show Posts.\n",
    "\n",
    "For question two, we determined that the time where ask posts received the most comments on average was 3PM EST. The top 5 values all fall after 12PM EST\n"
   ]
  }
 ],
 "metadata": {
  "kernelspec": {
   "display_name": "Python 3",
   "language": "python",
   "name": "python3"
  },
  "language_info": {
   "codemirror_mode": {
    "name": "ipython",
    "version": 3
   },
   "file_extension": ".py",
   "mimetype": "text/x-python",
   "name": "python",
   "nbconvert_exporter": "python",
   "pygments_lexer": "ipython3",
   "version": "3.8.2"
  }
 },
 "nbformat": 4,
 "nbformat_minor": 2
}
