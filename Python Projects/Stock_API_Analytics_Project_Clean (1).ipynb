{
 "cells": [
  {
   "cell_type": "markdown",
   "metadata": {},
   "source": [
    "# Stock Ticker Data Retreival Project"
   ]
  },
  {
   "cell_type": "markdown",
   "metadata": {},
   "source": [
    "## The goal of this project is to allow the user to pull stock related data via necessary inputs\n",
    "\n",
    "### This project incorporates Python concepts of:\n",
    "- Pulling data via APIs\n",
    "- Reading API data in JSON format\n",
    "- Loops\n",
    "- Error and exception handling\n",
    "- Data visualization\n"
   ]
  },
  {
   "cell_type": "markdown",
   "metadata": {},
   "source": [
    "## Function 1: validate_ticker()"
   ]
  },
  {
   "cell_type": "markdown",
   "metadata": {},
   "source": [
    "### This function takes the input from function 2 and returns either a True or False Statement. Function 1 exists to check if the ticker input is valid and the api returns actual data"
   ]
  },
  {
   "cell_type": "code",
   "execution_count": 5,
   "metadata": {},
   "outputs": [],
   "source": [
    "def validate_ticker(input1):\n",
    "    print('\\nValidating ticker:' + ' ' + input1)\n",
    "\n",
    "    #url variables using input1 for symbol\n",
    "    url1 = f'https://www.alphavantage.co/query?function=TIME_SERIES_WEEKLY&symbol={input1}&apikey=blocked'\n",
    "    url2 = f'https://www.alphavantage.co/query?function=GLOBAL_QUOTE&symbol={input1}&apikey=BJLAZE1NDYM1CTGW'\n",
    "    url3 = f'https://www.alphavantage.co/query?function=OVERVIEW&symbol={input1}&apikey=BJLAZE1NDYM1CTGW'\n",
    "\n",
    "    # get request\n",
    "    r1 = requests.get(url1)\n",
    "    r2 = requests.get(url2)\n",
    "    r3 = requests.get(url3)\n",
    "\n",
    "    # data in json format    \n",
    "    data1 = r1.json()\n",
    "    data2 = r2.json()\n",
    "    data3 = r3.json()\n",
    "\n",
    "    # data within json saved to respective variables\n",
    "    weekly = data1[ 'Weekly Time Series'] #original code DO NOT DELETE\n",
    "    global_quote = data2['Global Quote'] #original code DO NOT DELETE\n",
    "    ticker_name = data3['Name'] #original code DO NOT DELETE\n",
    "    \n",
    "    #first check to determine if data is properly pulled and saved. All 3 variables must contain data for later functions to work\n",
    "    if len(weekly) > 0 and len(global_quote) > 0 and len(ticker_name) > 0:\n",
    "        return True\n",
    "    else:\n",
    "        return False"
   ]
  },
  {
   "cell_type": "markdown",
   "metadata": {},
   "source": [
    "## Function 2: ticker_input()"
   ]
  },
  {
   "cell_type": "markdown",
   "metadata": {},
   "source": [
    "### This function takes the ticker input from the user and checks against function 1. If the ticker input passes the validate function, a list of variables are returned."
   ]
  },
  {
   "cell_type": "code",
   "execution_count": 8,
   "metadata": {},
   "outputs": [],
   "source": [
    "# Test by pulling from 2 API links instead of just weekly time series. \n",
    "\n",
    "import requests\n",
    "import json\n",
    "import pandas as pd\n",
    "import matplotlib.pyplot as plt\n",
    "from datetime import datetime\n",
    "\n",
    "\n",
    "#1 = Bad input\n",
    "#2 = aapl\n",
    "\n",
    "def ticker_input():\n",
    "\n",
    "    ticker = ''\n",
    "    ticker = input('Please type in a ticker:')\n",
    "    ticker = ticker.upper()\n",
    "    is_valid_ticker = validate_ticker(ticker)\n",
    "\n",
    "    # if the ticker is invalid, user prompted to try again\n",
    "    while is_valid_ticker is False:\n",
    "        ticker = input('There was an issue retreiving this ticker. Please try again.')\n",
    "        ticker = ticker.upper()        \n",
    "        is_valid_ticker = validate_ticker(ticker)\n",
    "\n",
    "    \n",
    "    url1 =  f'https://www.alphavantage.co/query?function=TIME_SERIES_WEEKLY&symbol={ticker}&apikey=BJLAZE1NDYM1CTGW' #generic url with {ticker}\n",
    "    url2 = f'https://www.alphavantage.co/query?function=GLOBAL_QUOTE&symbol={ticker}&apikey=BJLAZE1NDYM1CTGW'\n",
    "    url3 = f'https://www.alphavantage.co/query?function=OVERVIEW&symbol={ticker}&apikey=BJLAZE1NDYM1CTGW'\n",
    "    \n",
    "    r1 = requests.get(url1)\n",
    "    r2 = requests.get(url2)\n",
    "    r3 = requests.get(url3)\n",
    "\n",
    "    data1 = r1.json()\n",
    "    data2 = r2.json()\n",
    "    data3 = r3.json()\n",
    "\n",
    "    weekly = data1[ 'Weekly Time Series'] \n",
    "    global_quote = data2['Global Quote'] \n",
    "    ticker_name = data3['Name'] \n",
    "    \n",
    "    input_ticker = ticker\n",
    "    input_weekly = weekly\n",
    "    input_global_quote = global_quote\n",
    "    input_ticker_name = ticker_name\n",
    "    \n",
    "    output1 = (input_ticker, input_weekly, input_global_quote, input_ticker_name)\n",
    "    return output1\n",
    "\n"
   ]
  },
  {
   "cell_type": "markdown",
   "metadata": {},
   "source": [
    "## Function 3: validate_integer()"
   ]
  },
  {
   "cell_type": "markdown",
   "metadata": {},
   "source": [
    "### Similar to function 1, this functions acts as a validation for the integer input for function 4. "
   ]
  },
  {
   "cell_type": "code",
   "execution_count": 11,
   "metadata": {},
   "outputs": [],
   "source": [
    "def validate_integer(input2):\n",
    "    if int(input2):\n",
    "        return True\n",
    "    else:\n",
    "        return False"
   ]
  },
  {
   "cell_type": "markdown",
   "metadata": {},
   "source": [
    "## Function 4: weekly_input()"
   ]
  },
  {
   "cell_type": "markdown",
   "metadata": {},
   "source": [
    "### This functions takes the validated ticker input and returns trading data. It then prompts the user to add an integer value for getting a range of trading weeks for the visual. "
   ]
  },
  {
   "cell_type": "code",
   "execution_count": 14,
   "metadata": {},
   "outputs": [],
   "source": [
    "def weekly_input():\n",
    "    result = ticker_input() #refers to function 2\n",
    "    print(f'You chose ticker symbol {result[0]}: {result[3]}\\n')\n",
    "    print(f'Here\\'s trading information of {result[0]} from the most recent trading day:\\n')\n",
    "\n",
    "    #prints values one by one for readability\n",
    "    for key,value in result[2].items():\n",
    "        print(key,value)\n",
    "    \n",
    "    print()      \n",
    "    \n",
    "    num_weeks = input('How many trading weeks do you want to see? ')\n",
    "    num_weeks = int(num_weeks)\n",
    "    is_valid_integer = validate_integer(num_weeks)\n",
    "\n",
    "    while is_valid_integer is False:\n",
    "        num_weeks = input('Please enter a valid number (integers only)')\n",
    "        num_weeks = int(num_weeks)        \n",
    "        is_valid_integer = validate_integer(num_weeks)\n",
    "    \n",
    "    \n",
    "    weekly = result[1]\n",
    "    week_end_list = []\n",
    "    close_price = []\n",
    "    \n",
    "    for i in weekly:\n",
    "        week_end_list.append(datetime.strptime(i, '%Y-%m-%d'))\n",
    "        close_price.append(float(weekly[i]['4. close']))\n",
    "\n",
    "    # variables for summary stats\n",
    "    sub_week_list = week_end_list[:num_weeks]  \n",
    "    sub_week_list_min = min(sub_week_list)\n",
    "    \n",
    "    sub_close_price = close_price[:num_weeks]\n",
    "    sub_close_price_max = max(sub_close_price)\n",
    "    sub_close_price_min = min(sub_close_price)\n",
    "    \n",
    "    # summary stats based on data range specified\n",
    "    print()\n",
    "    print(f'The earliest week end date time period was {sub_week_list_min}')\n",
    "    print(f'The maximum price for this time period was {sub_close_price_max}')\n",
    "    print(f'The minimum price for this time period was {sub_close_price_min}') \n",
    "    \n",
    "    # visualize the pulled data in a line chart\n",
    "    plt.plot(sub_week_list, sub_close_price, c = 'orange')\n",
    "    plt.title(f\"End of Trading Week Stock Price: {result[0]}\")\n",
    "    plt.xticks(rotation=90)\n",
    "    plt.xlabel(\"Trading Week End Date\")\n",
    "    plt.ylabel(\"Closing Price\")\n",
    "    plt.show()\n",
    "\n"
   ]
  },
  {
   "cell_type": "markdown",
   "metadata": {},
   "source": [
    "# Function 5: final_function()"
   ]
  },
  {
   "cell_type": "markdown",
   "metadata": {},
   "source": [
    "### This is the last function that runs all previous functions. "
   ]
  },
  {
   "cell_type": "code",
   "execution_count": 17,
   "metadata": {},
   "outputs": [
    {
     "name": "stdin",
     "output_type": "stream",
     "text": [
      "Please type in a ticker: BABA\n"
     ]
    },
    {
     "name": "stdout",
     "output_type": "stream",
     "text": [
      "\n",
      "Validating ticker: BABA\n",
      "You chose ticker symbol BABA: Alibaba Group Holding Ltd\n",
      "\n",
      "Here's trading information of BABA from the most recent trading day:\n",
      "\n",
      "01. symbol BABA\n",
      "02. open 82.2500\n",
      "03. high 82.2500\n",
      "04. low 80.4000\n",
      "05. price 80.5300\n",
      "06. volume 15393850\n",
      "07. latest trading day 2025-01-10\n",
      "08. previous close 83.6900\n",
      "09. change -3.1600\n",
      "10. change percent -3.7758%\n",
      "\n"
     ]
    },
    {
     "name": "stdin",
     "output_type": "stream",
     "text": [
      "How many trading weeks do you want to see?  27\n"
     ]
    },
    {
     "name": "stdout",
     "output_type": "stream",
     "text": [
      "\n",
      "The earliest week end date time period was 2024-07-12 00:00:00\n",
      "The maximum price for this time period was 114.53\n",
      "The minimum price for this time period was 75.27\n"
     ]
    },
    {
     "data": {
      "image/png": "[encoded data removed]",
      "text/plain": [
       "<Figure size 640x480 with 1 Axes>"
      ]
     },
     "metadata": {},
     "output_type": "display_data"
    }
   ],
   "source": [
    "def final_function():\n",
    "    # function ticker_input() runs first to get the input\n",
    "    # fuction validate() runs the ticker against validation\n",
    "    #if ticker is valid then weekly_input is executed, else go back to ticker_input()\n",
    "    weekly_input()\n",
    "\n",
    "final_function()\n",
    "\n"
   ]
  }
 ],
 "metadata": {
  "kernelspec": {
   "display_name": "Python 3 (ipykernel)",
   "language": "python",
   "name": "python3"
  },
  "language_info": {
   "codemirror_mode": {
    "name": "ipython",
    "version": 3
   },
   "file_extension": ".py",
   "mimetype": "text/x-python",
   "name": "python",
   "nbconvert_exporter": "python",
   "pygments_lexer": "ipython3",
   "version": "3.12.7"
  }
 },
 "nbformat": 4,
 "nbformat_minor": 4
}
